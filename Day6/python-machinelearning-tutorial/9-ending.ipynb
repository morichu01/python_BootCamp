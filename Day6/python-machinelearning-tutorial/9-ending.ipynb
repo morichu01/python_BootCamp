{
 "cells": [
  {
   "cell_type": "markdown",
   "metadata": {},
   "source": [
    "# まとめ\n",
    "\n",
    "最初の章では、データの取得を行い、加工や結合をして機械学習で使用しやすい形にしました。\n",
    "\n",
    "データの特徴を捉えるために、グラフツールによる可視化を行いまいました。実際の作業では、データの加工を行う前にも可視化したり関連を確認します。\n",
    "今回は、pandas内部に持つmatplotlibの機能を用いてグラフ化しました。matplotlibやその他の可視化ツールを用いるともっと柔軟なグラフを出力することが出来ます。\n",
    "\n",
    "機械学習については、scikit-learnの機能で各種モデルを試しました。scikit-learnには補助ツールが備わっておりテストデータの作成や評価用の関数などが備わっています。\n",
    "機械学習はトライ＆エラーを繰り返し行い、良いモデル、良いパラメータを探る必要があります。関数化を行い効率を上げることが求められてきます。Pythonの知識が必要になってきます。\n",
    "\n",
    "最後に、機械学習の学習済みモデルを評価してみました。思ったより良い結果が出たと思います。\n",
    "\n",
    "\n",
    "一つひとつ、確実に作業を行うことで、既存のデータから機械学習で自分自身の予測モデルができました。みなさんも身近なデータを使って予測をしてみてください。\n"
   ]
  },
  {
   "cell_type": "markdown",
   "metadata": {},
   "source": [
    "# 謝辞\n",
    "\n",
    "以下の方にレビューなど協力をしていただきました。\n",
    "\n",
    "-  driller/どりらん(https://twitter.com/patraqushe)さん: レビュー指摘データハンドリング・可視化\n",
    "\n",
    "以下のPyData.Tokyoコミュニティのハンズオンを参考にさせていただきました。\n",
    "\n",
    "- https://github.com/PyDataTokyo/pydata-tokyo-tutorial-1\n"
   ]
  },
  {
   "cell_type": "markdown",
   "metadata": {},
   "source": [
    "# コミュニティ紹介\n",
    "\n",
    "- PyCon JP : http://pycon.jp\n",
    "- PyData.Tokyo : https://pydatatokyo.connpass.com/\n",
    "- PyLadies Tokyo : http://tokyo.pyladies.com/\n",
    "- python mini hack-a-thon : https://pyhack.connpass.com/"
   ]
  },
  {
   "cell_type": "markdown",
   "metadata": {},
   "source": [
    "# 宣伝\n",
    "\n",
    "## プログラミング初学者向け書籍\n",
    "\n",
    "スラスラわかるPython(8月7日発売) : 　http://amzn.to/2r1P8nG\n",
    "\n",
    "## 動画で学ぶ\n",
    "\n",
    "ネットラーニング W3シリーズ : http://stage.netlearning.co.jp/campaign/W3LP/index.html\n",
    "\n",
    "## Python Boot Camp 全国ツアー\n",
    "\n",
    "一般社団法人PyCon JPが行っている初心者向けチュートリアルツアー。会場費・講師派遣などすべての費用を本法人が支払い。実施したい地域の方からの連絡をお待ちしております。\n",
    "https://www.pycon.jp/support/bootcamp.html"
   ]
  },
  {
   "cell_type": "code",
   "execution_count": null,
   "metadata": {
    "collapsed": true
   },
   "outputs": [],
   "source": []
  }
 ],
 "metadata": {
  "kernelspec": {
   "display_name": "Python 3",
   "language": "python",
   "name": "python3"
  },
  "language_info": {
   "codemirror_mode": {
    "name": "ipython",
    "version": 3
   },
   "file_extension": ".py",
   "mimetype": "text/x-python",
   "name": "python",
   "nbconvert_exporter": "python",
   "pygments_lexer": "ipython3",
   "version": "3.6.1"
  }
 },
 "nbformat": 4,
 "nbformat_minor": 2
}
