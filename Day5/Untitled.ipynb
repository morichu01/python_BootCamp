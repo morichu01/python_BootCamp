{
 "cells": [
  {
   "cell_type": "code",
   "execution_count": 1,
   "metadata": {},
   "outputs": [],
   "source": [
    "#必要なライブラリを読み込む\n",
    "from matplotlib import pyplot as plt\n",
    "from matplotlib import cm\n",
    "#%matplotlib inline #スクリプト内に書くとエラーとなる\n",
    "\n",
    "import numpy as np\n",
    "from sklearn import datasets\n",
    "\n",
    "#from sklearn import cross_validation \n",
    "from sklearn import model_selection # modify  2019.9.22\n",
    "from sklearn import svm\n",
    "from sklearn import metrics\n"
   ]
  },
  {
   "cell_type": "code",
   "execution_count": 6,
   "metadata": {},
   "outputs": [
    {
     "ename": "NameError",
     "evalue": "name 'scores' is not defined",
     "output_type": "error",
     "traceback": [
      "\u001b[0;31m---------------------------------------------------------------------------\u001b[0m",
      "\u001b[0;31mNameError\u001b[0m                                 Traceback (most recent call last)",
      "\u001b[0;32m<ipython-input-6-5785e5c52e88>\u001b[0m in \u001b[0;36m<module>\u001b[0;34m\u001b[0m\n\u001b[1;32m     21\u001b[0m     \u001b[0mprint\u001b[0m\u001b[0;34m(\u001b[0m\u001b[0mmsg\u001b[0m\u001b[0;34m)\u001b[0m\u001b[0;34m\u001b[0m\u001b[0;34m\u001b[0m\u001b[0m\n\u001b[1;32m     22\u001b[0m \u001b[0;34m\u001b[0m\u001b[0m\n\u001b[0;32m---> 23\u001b[0;31m \u001b[0mscores\u001b[0m\u001b[0;34m\u001b[0m\u001b[0;34m\u001b[0m\u001b[0m\n\u001b[0m",
      "\u001b[0;31mNameError\u001b[0m: name 'scores' is not defined"
     ]
    }
   ],
   "source": [
    "def digits_svm(X,y):\n",
    "    scores = []\n",
    "    # K-fold 交差検証でアルゴリズムの汎化性能を調べる\n",
    "    \n",
    "    # modify  2019.9.22\n",
    "    #kfold = cross_validation.KFold(len(X), n_folds=5)\n",
    "    #for train, test in kfold(X):\n",
    "    kfold = model_selection.KFold(n_splits=5)\n",
    "    for train, test in kfold.split(X):\n",
    "        # デフォルトのカーネルは rbf になっている\n",
    "        model = svm.SVC(C=2**2, gamma=2**-11)\n",
    "        # 訓練データで学習する\n",
    "        model.fit(X[train], y[train])\n",
    "        # テストデータの正答率を調べる\n",
    "        score = metrics.accuracy_score(model.predict(X[test]), y[test])\n",
    "        scores.append(score)\n",
    "\n",
    "    # 最終的な正答率を出す\n",
    "    accuracy = (sum(scores) / len(scores)) * 100\n",
    "    msg = '正答率: {accuracy:.2f}%'.format(accuracy=accuracy)\n",
    "    print(msg)\n",
    "    "
   ]
  },
  {
   "cell_type": "code",
   "execution_count": 5,
   "metadata": {},
   "outputs": [
    {
     "ename": "NameError",
     "evalue": "name 'scores' is not defined",
     "output_type": "error",
     "traceback": [
      "\u001b[0;31m---------------------------------------------------------------------------\u001b[0m",
      "\u001b[0;31mNameError\u001b[0m                                 Traceback (most recent call last)",
      "\u001b[0;32m<ipython-input-5-fa8cef49474b>\u001b[0m in \u001b[0;36m<module>\u001b[0;34m\u001b[0m\n\u001b[0;32m----> 1\u001b[0;31m \u001b[0mscores\u001b[0m\u001b[0;34m\u001b[0m\u001b[0;34m\u001b[0m\u001b[0m\n\u001b[0m",
      "\u001b[0;31mNameError\u001b[0m: name 'scores' is not defined"
     ]
    }
   ],
   "source": []
  },
  {
   "cell_type": "code",
   "execution_count": null,
   "metadata": {},
   "outputs": [],
   "source": []
  },
  {
   "cell_type": "code",
   "execution_count": 3,
   "metadata": {},
   "outputs": [],
   "source": [
    "def main():\n",
    "    digits = datasets.load_digits()\n",
    "    X = digits.data\n",
    "    y = digits.target\n",
    "\n",
    "    print('データセットの点数: {N}'.format(N=X.shape[0]))\n",
    "    print('各データの次元数: {dimension}'.format(dimension=X.shape[1]))\n",
    "\n",
    "    # データの中から 25 点を無作為に選び出す\n",
    "    #p = np.random.random_integers(0, len(X), 25)\n",
    "    p = np.random.randint(0, len(X), 25)\n",
    "\n",
    "    # 選んだデータとラベルを matplotlib で表示する\n",
    "    samples = np.array(list(zip(X, y)))[p]\n",
    "    for index, (data, label) in enumerate(samples):\n",
    "        # 画像データを 5x5 の格子状に配置する\n",
    "        plt.subplot(5, 5, index + 1)\n",
    "        # 軸に関する表示はいらない\n",
    "        plt.axis('off')\n",
    "        # データを 8x8 のグレースケール画像として表示する\n",
    "        plt.imshow(data.reshape(8, 8), cmap=cm.gray_r, interpolation='nearest')\n",
    "        # 画像データのタイトルに正解ラベルを表示する\n",
    "        plt.title(label, color='red')\n",
    "\n",
    "    # グラフを表示する\n",
    "    plt.show()\n",
    "    \n",
    "    # svmで分類する\n",
    "    digits_svm(X,y)"
   ]
  },
  {
   "cell_type": "code",
   "execution_count": 4,
   "metadata": {},
   "outputs": [
    {
     "name": "stdout",
     "output_type": "stream",
     "text": [
      "データセットの点数: 1797\n",
      "各データの次元数: 64\n"
     ]
    },
    {
     "data": {
      "image/png": "[encoded data removed]",
      "text/plain": [
       "<Figure size 432x288 with 25 Axes>"
      ]
     },
     "metadata": {
      "needs_background": "light"
     },
     "output_type": "display_data"
    },
    {
     "name": "stdout",
     "output_type": "stream",
     "text": [
      "正答率: 97.44%\n"
     ]
    }
   ],
   "source": [
    "if __name__ == '__main__':\n",
    "    main()"
   ]
  },
  {
   "cell_type": "code",
   "execution_count": null,
   "metadata": {},
   "outputs": [],
   "source": []
  }
 ],
 "metadata": {
  "kernelspec": {
   "display_name": "Python 3",
   "language": "python",
   "name": "python3"
  },
  "language_info": {
   "codemirror_mode": {
    "name": "ipython",
    "version": 3
   },
   "file_extension": ".py",
   "mimetype": "text/x-python",
   "name": "python",
   "nbconvert_exporter": "python",
   "pygments_lexer": "ipython3",
   "version": "3.6.8"
  }
 },
 "nbformat": 4,
 "nbformat_minor": 2
}
