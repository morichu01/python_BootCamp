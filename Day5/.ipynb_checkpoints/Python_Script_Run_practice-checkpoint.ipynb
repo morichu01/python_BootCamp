{
 "cells": [
  {
   "cell_type": "markdown",
   "metadata": {},
   "source": [
    "# Pythonスクリプトをjupyter notebook上で実行する"
   ]
  },
  {
   "cell_type": "markdown",
   "metadata": {},
   "source": [
    "## このセッションで学べること\n",
    "- Pythonスクリプトをjupyter notebook上で書くことができる  \n",
    "- Pythonスクリプトをjupyter notebook上で実行することができる  \n",
    "- 手書き文字のデータセットが理解できる（画像データの構成が理解できる）\n",
    "- 手書き文字のデータセットを使って、SVMの他クラス分類の手法が理解できる  \n",
    "　https://ja.wikipedia.org/wiki/サポートベクターマシン  \n",
    "　https://qiita.com/pesuchin/items/c55f40b69aa1aec2bd19  \n",
    "- 関数を表現できるようになる  \n",
    "- 交差検証の概念が理解できる  \n",
    "　https://bi.biopapyrus.jp/ai/machine-learning/k-fold-cross-validation.html  \n",
    "　http://aiweeklynews.com/archives/50219779.html  \n",
    " ******"
   ]
  },
  {
   "cell_type": "code",
   "execution_count": 5,
   "metadata": {},
   "outputs": [
    {
     "name": "stdout",
     "output_type": "stream",
     "text": [
      "データセットの点数: 1797\n",
      "各データの次元数: 64\n"
     ]
    },
    {
     "name": "stderr",
     "output_type": "stream",
     "text": [
      "digits_svm.py:53: DeprecationWarning: This function is deprecated. Please call randint(0, 1797 + 1) instead\n",
      "  samples = np.array(list(zip(X, y)))[p]\n"
     ]
    },
    {
     "data": {
      "image/png": "[encoded data removed]",
      "text/plain": [
       "<Figure size 432x288 with 25 Axes>"
      ]
     },
     "metadata": {
      "needs_background": "light"
     },
     "output_type": "display_data"
    },
    {
     "name": "stdout",
     "output_type": "stream",
     "text": [
      "正答率: 97.44%\n"
     ]
    }
   ],
   "source": [
    "#Pythonスクリプトを実行する\n"
   ]
  },
  {
   "cell_type": "markdown",
   "metadata": {},
   "source": [
    "### 演習問題\n",
    "- スクリプトを読み解いてみよう！\n",
    "- パラメータをいろいろと変えてみて、正答率の変化を見てみよう！\n",
    "- 新規の手書き文字データ（配列）を作って、分類してみよう！"
   ]
  },
  {
   "cell_type": "code",
   "execution_count": null,
   "metadata": {},
   "outputs": [],
   "source": []
  }
 ],
 "metadata": {
  "kernelspec": {
   "display_name": "Python 3",
   "language": "python",
   "name": "python3"
  },
  "language_info": {
   "codemirror_mode": {
    "name": "ipython",
    "version": 3
   },
   "file_extension": ".py",
   "mimetype": "text/x-python",
   "name": "python",
   "nbconvert_exporter": "python",
   "pygments_lexer": "ipython3",
   "version": "3.6.8"
  }
 },
 "nbformat": 4,
 "nbformat_minor": 2
}
