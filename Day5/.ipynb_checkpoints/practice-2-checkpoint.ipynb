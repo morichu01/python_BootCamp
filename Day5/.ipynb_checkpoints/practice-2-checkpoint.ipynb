{
 "cells": [
  {
   "cell_type": "markdown",
   "metadata": {},
   "source": [
    "## digit_svm.pyをインタラクティブに実装するとこんな感じ"
   ]
  },
  {
   "cell_type": "code",
   "execution_count": 1,
   "metadata": {},
   "outputs": [],
   "source": [
    "#必要なライブラリを読み込む\n",
    "\n",
    "#描画は学習に必要ないので、今回はコメントアウトしている\n",
    "#from matplotlib import pyplot as plt\n",
    "#from matplotlib import cm #カラーマップを使うため\n",
    "#%matplotlib inline\n",
    "\n",
    "import numpy as np\n",
    "from sklearn import datasets\n",
    "\n",
    "from sklearn import model_selection\n",
    "from sklearn import svm\n",
    "from sklearn import metrics"
   ]
  },
  {
   "cell_type": "code",
   "execution_count": 13,
   "metadata": {},
   "outputs": [
    {
     "name": "stdout",
     "output_type": "stream",
     "text": [
      "データセットの点数: 1797\n",
      "各データの次元数: 64\n"
     ]
    }
   ],
   "source": [
    "#NMISTデータを使って学習/評価データを生成\n",
    "digits = datasets.load_digits() #NMISTデータ読み込み\n",
    "#説明変数と目的変数を作成\n",
    "X = digits.data\n",
    "y = digits.target\n",
    "\n",
    "#データの特徴を確認している\n",
    "print('データセットの点数: {N}'.format(N=X.shape[0]))\n",
    "print('各データの次元数: {dimension}'.format(dimension=X.shape[1]))"
   ]
  },
  {
   "cell_type": "code",
   "execution_count": 14,
   "metadata": {},
   "outputs": [
    {
     "name": "stdout",
     "output_type": "stream",
     "text": [
      "<class 'numpy.ndarray'>\n"
     ]
    },
    {
     "data": {
      "text/plain": [
       "array([[ 0.,  0.,  5., ...,  0.,  0.,  0.],\n",
       "       [ 0.,  0.,  0., ..., 10.,  0.,  0.],\n",
       "       [ 0.,  0.,  0., ..., 16.,  9.,  0.],\n",
       "       ...,\n",
       "       [ 0.,  0.,  1., ...,  6.,  0.,  0.],\n",
       "       [ 0.,  0.,  2., ..., 12.,  0.,  0.],\n",
       "       [ 0.,  0., 10., ..., 12.,  1.,  0.]])"
      ]
     },
     "execution_count": 14,
     "metadata": {},
     "output_type": "execute_result"
    }
   ],
   "source": [
    "#Xの中身表示\n",
    "print(type(X)) #Xはnumpy.arraryなのでhead()は使えない。head()はpandasのDataframe or Seriesのみ\n",
    "X\n",
    "'''\n",
    "２次元のイメージ\n",
    "[[1,2,,3,4,5,....,60,61,62,63,64] <-1つのデータに64個の数字(0-244)が入っている\n",
    "\n",
    " [1,2,,3,4,5,....,60,61,62,63,64]] <-1797レコード持っている\n",
    "'''"
   ]
  },
  {
   "cell_type": "code",
   "execution_count": 18,
   "metadata": {},
   "outputs": [
    {
     "name": "stdout",
     "output_type": "stream",
     "text": [
      "<class 'numpy.ndarray'>\n"
     ]
    },
    {
     "data": {
      "text/plain": [
       "array([0, 1, 2, ..., 8, 9, 8])"
      ]
     },
     "execution_count": 18,
     "metadata": {},
     "output_type": "execute_result"
    }
   ],
   "source": [
    "#Xの中身表示\n",
    "print(type(y))\n",
    "y\n",
    "#yは単純に64個の１次元配列"
   ]
  },
  {
   "cell_type": "code",
   "execution_count": 19,
   "metadata": {},
   "outputs": [],
   "source": [
    "# K-fold 交差検証でアルゴリズムの汎化性能を調べる\n",
    "scores = [] #５回分の評価ストアを保存するためのリスト\n",
    "\n",
    "kfold = model_selection.KFold(n_splits=5) #5個の学習用/評価用のデータに分割"
   ]
  },
  {
   "cell_type": "code",
   "execution_count": 21,
   "metadata": {},
   "outputs": [
    {
     "data": {
      "text/plain": [
       "KFold(n_splits=5, random_state=None, shuffle=False)"
      ]
     },
     "execution_count": 21,
     "metadata": {},
     "output_type": "execute_result"
    }
   ],
   "source": [
    "kfold"
   ]
  },
  {
   "cell_type": "code",
   "execution_count": 22,
   "metadata": {},
   "outputs": [],
   "source": [
    "#1回ずつモデルを作り評価している（５回繰り替えす）\n",
    "for train, test in kfold.split(X):\n",
    "    # デフォルトのカーネルは rbf になっている\n",
    "    model = svm.SVC(C=2**2, gamma=2**-11) #引数の意味を知りたい場合、公式ドキュメント参照\n",
    "    # 訓練データで学習する\n",
    "    model.fit(X[train], y[train])\n",
    "    # テストデータの正答率を調べる\n",
    "    score = metrics.accuracy_score(model.predict(X[test]), y[test])\n",
    "    scores.append(score)"
   ]
  },
  {
   "cell_type": "code",
   "execution_count": 34,
   "metadata": {},
   "outputs": [
    {
     "name": "stdout",
     "output_type": "stream",
     "text": [
      "1 回目の学習データ数:1437 , 評価データ数:360\n",
      "2 回目の学習データ数:1437 , 評価データ数:360\n",
      "3 回目の学習データ数:1438 , 評価データ数:359\n",
      "4 回目の学習データ数:1438 , 評価データ数:359\n",
      "5 回目の学習データ数:1438 , 評価データ数:359\n"
     ]
    }
   ],
   "source": [
    "#for train, test in kfold.split(X):が何をしているのか確認したいな場合\n",
    "i=1\n",
    "for train, test in kfold.split(X):\n",
    "    print('{} 回目の学習データ数:{} , 評価データ数:{}'.format(i, len(train), len(test)))\n",
    "    i+=1"
   ]
  },
  {
   "cell_type": "code",
   "execution_count": 20,
   "metadata": {},
   "outputs": [
    {
     "name": "stdout",
     "output_type": "stream",
     "text": [
      "[0.983 0.956 0.983 0.992 0.958]\n",
      "--------------------------------\n",
      "正答率: 97.44%\n"
     ]
    }
   ],
   "source": [
    "#５回分のスコアを表示\n",
    "print(np.round(scores, 3))\n",
    "print('--------------------------------')\n",
    "\n",
    "# 最終的な正答率を出す。５回のスコアの平均を求めている\n",
    "accuracy = (sum(scores) / len(scores)) * 100\n",
    "msg = '正答率: {accuracy:.2f}%'.format(accuracy=accuracy)\n",
    "print(msg)"
   ]
  },
  {
   "cell_type": "markdown",
   "metadata": {},
   "source": [
    "### （参考）公式ドキュメント\n",
    "- KFoldの使い方<br>\n",
    "  https://scikit-learn.org/stable/modules/generated/sklearn.model_selection.KFold.html\n",
    "- svmの使い方<br>\n",
    "  https://scikit-learn.org/stable/modules/generated/sklearn.svm.SVC.html"
   ]
  },
  {
   "cell_type": "code",
   "execution_count": null,
   "metadata": {},
   "outputs": [],
   "source": []
  }
 ],
 "metadata": {
  "kernelspec": {
   "display_name": "Python 3",
   "language": "python",
   "name": "python3"
  },
  "language_info": {
   "codemirror_mode": {
    "name": "ipython",
    "version": 3
   },
   "file_extension": ".py",
   "mimetype": "text/x-python",
   "name": "python",
   "nbconvert_exporter": "python",
   "pygments_lexer": "ipython3",
   "version": "3.7.4"
  }
 },
 "nbformat": 4,
 "nbformat_minor": 2
}
