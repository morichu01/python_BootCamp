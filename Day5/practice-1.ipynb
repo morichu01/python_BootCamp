{
 "cells": [
  {
   "cell_type": "markdown",
   "metadata": {},
   "source": [
    " ## プログラムの流れ説明\n",
    "①ライブラリ読み込み<br>\n",
    "②学習して検証する機能を定義した関数<br>\n",
    "③NMISTデータを読み込み学習用データを検証用データを作成する。サンプルを25個ランダムに抽出して表示させる。これら機能を定義した関数<br>\n",
    "④スクリプト実行<br>"
   ]
  },
  {
   "cell_type": "code",
   "execution_count": 1,
   "metadata": {},
   "outputs": [],
   "source": [
    "#必要なライブラリを読み込む\n",
    "from matplotlib import pyplot as plt\n",
    "from matplotlib import cm #カラーマップを使うため\n",
    "%matplotlib inline\n",
    "\n",
    "import numpy as np\n",
    "from sklearn import datasets\n",
    "\n",
    "from sklearn import model_selection\n",
    "from sklearn import svm\n",
    "from sklearn import metrics"
   ]
  },
  {
   "cell_type": "code",
   "execution_count": 2,
   "metadata": {},
   "outputs": [],
   "source": [
    "#SVMアルゴリズムと交差検証法を用いて、学習・評価する関数を定義する\n",
    "def digits_svm(X,y):\n",
    "    scores = [] #５回分の評価ストアを保存するためのリスト\n",
    "    \n",
    "    # K-fold 交差検証でアルゴリズムの汎化性能を調べる\n",
    "    kfold = model_selection.KFold(n_splits=5) #5個の学習用/評価用のデータに分割\n",
    "    \n",
    "    for train, test in kfold.split(X): #1回ずつモデルを作り評価している（５回繰り替えす）\n",
    "        # デフォルトのカーネルは rbf になっている\n",
    "        model = svm.SVC(C=2**2, gamma=2**-11) #引数の意味を知りたい場合、公式ドキュメント参照\n",
    "        # 訓練データで学習する\n",
    "        model.fit(X[train], y[train])\n",
    "        # テストデータの正答率を調べる\n",
    "        score = metrics.accuracy_score(model.predict(X[test]), y[test])\n",
    "        scores.append(score)\n",
    "\n",
    "    # 最終的な正答率を出す。５回のスコアの平均を求めている\n",
    "    accuracy = (sum(scores) / len(scores)) * 100\n",
    "    msg = '正答率: {accuracy:.2f}%'.format(accuracy=accuracy)\n",
    "    print(msg)"
   ]
  },
  {
   "cell_type": "code",
   "execution_count": 3,
   "metadata": {},
   "outputs": [],
   "source": [
    "#main関数を定義する\n",
    "def main():\n",
    "    digits = datasets.load_digits() #NMISTデータ読み込み\n",
    "    #説明変数と目的変数を作成\n",
    "    X = digits.data\n",
    "    y = digits.target\n",
    "\n",
    "    #データの特徴を確認している\n",
    "    print('データセットの点数: {N}'.format(N=X.shape[0]))\n",
    "    print('各データの次元数: {dimension}'.format(dimension=X.shape[1]))\n",
    "\n",
    "    # データの中から 25 点を無作為に選び出し、描画しているだけ\n",
    "    p = np.random.randint(0, len(X), 25)\n",
    "\n",
    "    # 選んだデータとラベルを matplotlib で表示する\n",
    "    samples = np.array(list(zip(X, y)))[p]\n",
    "    for index, (data, label) in enumerate(samples):\n",
    "        # 画像データを 5x5 の格子状に配置する\n",
    "        plt.subplot(5, 5, index + 1)\n",
    "        # 軸に関する表示はいらない\n",
    "        plt.axis('off')\n",
    "        # データを 8x8 のグレースケール画像として表示する\n",
    "        plt.imshow(data.reshape(8, 8), cmap=cm.gray_r, interpolation='nearest')\n",
    "        # 画像データのタイトルに正解ラベルを表示する\n",
    "        plt.title(label, color='red')\n",
    "\n",
    "    # グラフを表示する\n",
    "    plt.show()\n",
    "    \n",
    "    # svmで分類する\n",
    "    digits_svm(X,y) # 上のdigits_svm関数を実行する"
   ]
  },
  {
   "cell_type": "code",
   "execution_count": 4,
   "metadata": {},
   "outputs": [
    {
     "name": "stdout",
     "output_type": "stream",
     "text": [
      "データセットの点数: 1797\n",
      "各データの次元数: 64\n"
     ]
    },
    {
     "data": {
      "image/png": "[encoded data removed]",
      "text/plain": [
       "<Figure size 432x288 with 25 Axes>"
      ]
     },
     "metadata": {
      "needs_background": "light"
     },
     "output_type": "display_data"
    },
    {
     "name": "stdout",
     "output_type": "stream",
     "text": [
      "正答率: 97.44%\n"
     ]
    }
   ],
   "source": [
    "#main実行    \n",
    "if __name__ == '__main__':\n",
    "    main() #上のmain関数を実行する"
   ]
  },
  {
   "cell_type": "code",
   "execution_count": null,
   "metadata": {},
   "outputs": [],
   "source": []
  }
 ],
 "metadata": {
  "kernelspec": {
   "display_name": "Python 3",
   "language": "python",
   "name": "python3"
  },
  "language_info": {
   "codemirror_mode": {
    "name": "ipython",
    "version": 3
   },
   "file_extension": ".py",
   "mimetype": "text/x-python",
   "name": "python",
   "nbconvert_exporter": "python",
   "pygments_lexer": "ipython3",
   "version": "3.7.4"
  }
 },
 "nbformat": 4,
 "nbformat_minor": 2
}
