{
 "cells": [
  {
   "cell_type": "markdown",
   "metadata": {},
   "source": [
    "# Pythonスクリプトをjupyter notebook上で実行する"
   ]
  },
  {
   "cell_type": "markdown",
   "metadata": {},
   "source": [
    "## このセッションで学べること\n",
    "- Pythonスクリプトをjupyter notebook上で書くことができる  \n",
    "- Pythonスクリプトをjupyter notebook上で実行することができる  \n",
    "- 手書き文字のデータセットが理解できる（画像データの構成が理解できる）\n",
    "- 手書き文字のデータセットを使って、SVMの他クラス分類の手法が理解できる  \n",
    "　https://ja.wikipedia.org/wiki/サポートベクターマシン  \n",
    "　https://qiita.com/pesuchin/items/c55f40b69aa1aec2bd19  \n",
    "- 関数を表現できるようになる  \n",
    "- 交差検証の概念が理解できる  \n",
    "　https://bi.biopapyrus.jp/ai/machine-learning/k-fold-cross-validation.html  \n",
    "　http://aiweeklynews.com/archives/50219779.html  \n",
    " ******"
   ]
  },
  {
   "cell_type": "code",
   "execution_count": 2,
   "metadata": {},
   "outputs": [
    {
     "name": "stdout",
     "output_type": "stream",
     "text": [
      "データセットの点数: 1797\n",
      "各データの次元数: 64\n"
     ]
    },
    {
     "data": {
      "image/png": "[encoded data removed]",
      "text/plain": [
       "<Figure size 432x288 with 25 Axes>"
      ]
     },
     "metadata": {
      "needs_background": "light"
     },
     "output_type": "display_data"
    },
    {
     "name": "stdout",
     "output_type": "stream",
     "text": [
      "正答率: 97.44%\n"
     ]
    }
   ],
   "source": [
    "#Pythonスクリプトを実行する\n",
    "%run -i digits_svm.py"
   ]
  },
  {
   "cell_type": "markdown",
   "metadata": {},
   "source": [
    "### 演習問題\n",
    "- スクリプトを読み解いてみよう！\n",
    "- パラメータをいろいろと変えてみて、正答率の変化を見てみよう！\n",
    "- 新規の手書き文字データ（配列）を作って、分類してみよう！"
   ]
  },
  {
   "cell_type": "markdown",
   "metadata": {},
   "source": [
    "### おまけ"
   ]
  },
  {
   "cell_type": "markdown",
   "metadata": {},
   "source": [
    "### コマンドで実行する場合\n",
    "1. コマンドプロンプト（ターミナル）を開く\n",
    "1. cdで実行するスクリプトのあるディレクトリまで移動\n",
    "1. pytho3 ファイル名"
   ]
  },
  {
   "cell_type": "code",
   "execution_count": 2,
   "metadata": {},
   "outputs": [
    {
     "ename": "ImportError",
     "evalue": "cannot import name 'cross_validation'",
     "output_type": "error",
     "traceback": [
      "\u001b[0;31m---------------------------------------------------------------------------\u001b[0m",
      "\u001b[0;31mImportError\u001b[0m                               Traceback (most recent call last)",
      "\u001b[0;32m~/Documents/Python/PythonCafe2/Day5/digits_svm_old.py\u001b[0m in \u001b[0;36m<module>\u001b[0;34m\u001b[0m\n\u001b[1;32m     14\u001b[0m \u001b[0;32mfrom\u001b[0m \u001b[0msklearn\u001b[0m \u001b[0;32mimport\u001b[0m \u001b[0mdatasets\u001b[0m\u001b[0;34m\u001b[0m\u001b[0;34m\u001b[0m\u001b[0m\n\u001b[1;32m     15\u001b[0m \u001b[0;34m\u001b[0m\u001b[0m\n\u001b[0;32m---> 16\u001b[0;31m \u001b[0;32mfrom\u001b[0m \u001b[0msklearn\u001b[0m \u001b[0;32mimport\u001b[0m \u001b[0mcross_validation\u001b[0m\u001b[0;34m\u001b[0m\u001b[0;34m\u001b[0m\u001b[0m\n\u001b[0m\u001b[1;32m     17\u001b[0m \u001b[0;32mfrom\u001b[0m \u001b[0msklearn\u001b[0m \u001b[0;32mimport\u001b[0m \u001b[0msvm\u001b[0m\u001b[0;34m\u001b[0m\u001b[0;34m\u001b[0m\u001b[0m\n\u001b[1;32m     18\u001b[0m \u001b[0;32mfrom\u001b[0m \u001b[0msklearn\u001b[0m \u001b[0;32mimport\u001b[0m \u001b[0mmetrics\u001b[0m\u001b[0;34m\u001b[0m\u001b[0;34m\u001b[0m\u001b[0m\n",
      "\u001b[0;31mImportError\u001b[0m: cannot import name 'cross_validation'"
     ]
    }
   ],
   "source": [
    "#エラーが起きたスクリプトの対処法\n",
    "%run -i digits_svm_old.py"
   ]
  },
  {
   "cell_type": "markdown",
   "metadata": {},
   "source": [
    "### エラー処理の仕方\n",
    "cross_validationクラスがmodel_selectionクラスに変更<br>\n",
    "https://scikit-learn.org/stable/whats_new.html\n",
    "\n",
    "sklearn.model_selection.KFoldの使い方<br>\n",
    "https://scikit-learn.org/stable/modules/generated/sklearn.model_selection.KFold.html#sklearn.model_selection.KFold"
   ]
  },
  {
   "cell_type": "code",
   "execution_count": 1,
   "metadata": {},
   "outputs": [
    {
     "name": "stdout",
     "output_type": "stream",
     "text": [
      "total 64\r\n",
      "-rw-r--r--  1 moritadashi  staff  16575 Sep 26 15:36 Python_Script_Run.ipynb\r\n",
      "-rw-r--r--  1 moritadashi  staff   2160 Sep 26 15:35 Python_Script_Run_practice.ipynb\r\n",
      "-rw-r--r--  1 moritadashi  staff   2186 Sep 26 13:08 digits_svm_old.py\r\n",
      "-rw-r--r--@ 1 moritadashi  staff   2380 Sep 26 13:05 digits_svm.py\r\n"
     ]
    }
   ],
   "source": [
    "# !の後にshell comandが実行できる %でも代用できるっぽい\n",
    "!ls -lt"
   ]
  },
  {
   "cell_type": "code",
   "execution_count": 2,
   "metadata": {},
   "outputs": [],
   "source": [
    "# reference of magic comand\n",
    "%quickref"
   ]
  },
  {
   "cell_type": "markdown",
   "metadata": {},
   "source": [
    "### Markdown記法　サンプル集\n",
    "https://qiita.com/tbpgr/items/989c6badefff69377da7"
   ]
  },
  {
   "cell_type": "code",
   "execution_count": 8,
   "metadata": {},
   "outputs": [],
   "source": [
    "from matplotlib import pyplot as plt\n",
    "from matplotlib import cm\n",
    "%matplotlib inline"
   ]
  },
  {
   "cell_type": "code",
   "execution_count": 10,
   "metadata": {},
   "outputs": [
    {
     "name": "stdout",
     "output_type": "stream",
     "text": [
      "データセットの点数: 1797\n",
      "各データの次元数: 64\n"
     ]
    },
    {
     "data": {
      "image/png": "[encoded data removed]",
      "text/plain": [
       "<Figure size 432x288 with 25 Axes>"
      ]
     },
     "metadata": {
      "needs_background": "light"
     },
     "output_type": "display_data"
    },
    {
     "name": "stdout",
     "output_type": "stream",
     "text": [
      "正答率: 97.44%\n"
     ]
    }
   ],
   "source": [
    "%run -i practice.py"
   ]
  },
  {
   "cell_type": "code",
   "execution_count": null,
   "metadata": {},
   "outputs": [],
   "source": []
  },
  {
   "cell_type": "code",
   "execution_count": 11,
   "metadata": {},
   "outputs": [],
   "source": [
    "#必要なライブラリを読み込む\n",
    "from matplotlib import pyplot as plt\n",
    "from matplotlib import cm\n",
    "%matplotlib inline \n",
    "\n",
    "import numpy as np\n",
    "from sklearn import datasets\n",
    "\n",
    "#from sklearn import cross_validation \n",
    "from sklearn import model_selection # modify  2019.9.22\n",
    "from sklearn import svm\n",
    "from sklearn import metrics"
   ]
  },
  {
   "cell_type": "code",
   "execution_count": 12,
   "metadata": {},
   "outputs": [],
   "source": [
    "#SVMアルゴリズムと交差検証法を用いて、学習・評価する関数を定義する\n",
    "def digits_svm(X,y):\n",
    "    scores = []\n",
    "    # K-fold 交差検証でアルゴリズムの汎化性能を調べる\n",
    "    \n",
    "    # modify  2019.9.22\n",
    "    #kfold = cross_validation.KFold(len(X), n_folds=5)\n",
    "    #for train, test in kfold(X):\n",
    "    kfold = model_selection.KFold(n_splits=5)\n",
    "    for train, test in kfold.split(X):\n",
    "        # デフォルトのカーネルは rbf になっている\n",
    "        model = svm.SVC(C=2**2, gamma=2**-11)\n",
    "        # 訓練データで学習する\n",
    "        model.fit(X[train], y[train])\n",
    "        # テストデータの正答率を調べる\n",
    "        score = metrics.accuracy_score(model.predict(X[test]), y[test])\n",
    "        scores.append(score)\n",
    "\n",
    "    # 最終的な正答率を出す\n",
    "    accuracy = (sum(scores) / len(scores)) * 100\n",
    "    msg = '正答率: {accuracy:.2f}%'.format(accuracy=accuracy)\n",
    "    print(msg)"
   ]
  },
  {
   "cell_type": "code",
   "execution_count": 13,
   "metadata": {},
   "outputs": [],
   "source": [
    "#main関数を定義する\n",
    "def main():\n",
    "    digits = datasets.load_digits()\n",
    "    X = digits.data\n",
    "    y = digits.target\n",
    "\n",
    "    print('データセットの点数: {N}'.format(N=X.shape[0]))\n",
    "    print('各データの次元数: {dimension}'.format(dimension=X.shape[1]))\n",
    "\n",
    "    # データの中から 25 点を無作為に選び出す\n",
    "    #p = np.random.random_integers(0, len(X), 25)\n",
    "    p = np.random.randint(0, len(X), 25)\n",
    "\n",
    "    # 選んだデータとラベルを matplotlib で表示する\n",
    "    samples = np.array(list(zip(X, y)))[p]\n",
    "    for index, (data, label) in enumerate(samples):\n",
    "        # 画像データを 5x5 の格子状に配置する\n",
    "        plt.subplot(5, 5, index + 1)\n",
    "        # 軸に関する表示はいらない\n",
    "        plt.axis('off')\n",
    "        # データを 8x8 のグレースケール画像として表示する\n",
    "        plt.imshow(data.reshape(8, 8), cmap=cm.gray_r, interpolation='nearest')\n",
    "        # 画像データのタイトルに正解ラベルを表示する\n",
    "        plt.title(label, color='red')\n",
    "\n",
    "    # グラフを表示する\n",
    "    plt.show()\n",
    "    \n",
    "    # svmで分類する\n",
    "    digits_svm(X,y)"
   ]
  },
  {
   "cell_type": "code",
   "execution_count": 14,
   "metadata": {},
   "outputs": [
    {
     "name": "stdout",
     "output_type": "stream",
     "text": [
      "データセットの点数: 1797\n",
      "各データの次元数: 64\n"
     ]
    },
    {
     "data": {
      "image/png": "[encoded data removed]",
      "text/plain": [
       "<Figure size 432x288 with 25 Axes>"
      ]
     },
     "metadata": {
      "needs_background": "light"
     },
     "output_type": "display_data"
    },
    {
     "name": "stdout",
     "output_type": "stream",
     "text": [
      "正答率: 97.44%\n"
     ]
    }
   ],
   "source": [
    "main()"
   ]
  },
  {
   "cell_type": "code",
   "execution_count": null,
   "metadata": {},
   "outputs": [],
   "source": []
  }
 ],
 "metadata": {
  "kernelspec": {
   "display_name": "Python 3",
   "language": "python",
   "name": "python3"
  },
  "language_info": {
   "codemirror_mode": {
    "name": "ipython",
    "version": 3
   },
   "file_extension": ".py",
   "mimetype": "text/x-python",
   "name": "python",
   "nbconvert_exporter": "python",
   "pygments_lexer": "ipython3",
   "version": "3.6.8"
  }
 },
 "nbformat": 4,
 "nbformat_minor": 2
}
