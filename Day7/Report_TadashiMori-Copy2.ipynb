{
 "cells": [
  {
   "cell_type": "markdown",
   "metadata": {},
   "source": [
    "# PythonCafe(8回目) 最終課題と最終レポート\n",
    "<br>\n",
    "<div style=\"text-align: right;\"><h3>2019.10.18 Tadashi Mori</h3></div>"
   ]
  },
  {
   "cell_type": "markdown",
   "metadata": {},
   "source": [
    "## 1. PyhtonCafeに参加した目的やゴール"
   ]
  },
  {
   "cell_type": "markdown",
   "metadata": {},
   "source": [
    "1. アルムナイ・リレーションシップという言葉が気に入って、MMCに貢献できそうなテーマを取り組んでみたかった。\n",
    "1. インプットしたことをアプトプットすることで知識の定着と理解を深める。\n",
    "1. 人に教えるスキルを磨く。"
   ]
  },
  {
   "cell_type": "markdown",
   "metadata": {},
   "source": [
    "## 2. PythonCafeで学んだこと、理解できたこと\n",
    "※間違っていてもかまわない"
   ]
  },
  {
   "cell_type": "markdown",
   "metadata": {},
   "source": [
    "- 次の言葉を理解した。（最低５つは答えてほしい）\n",
    "    - AI/機械学習/ディープラーニングの違いは何か？<br>\n",
    "      -> <br>\n",
    "    - データサイエンティストには３つの能力が必要。それは何か？<br>\n",
    "      -> <br>\n",
    "    - 機械学習は３つに分けられる。それは何か？<br>\n",
    "      -> <br>\n",
    "    - 教師あり学習と教師なし学習の特徴は何か？それぞれどのようなビジネスシーンで活用できるか？（業務ニーズ・課題に対応できるか？）<br>\n",
    "      -> <br>\n",
    "    - データ分析プロセスを何と呼んでいるか？（IBM用語なので一般的ではないが、考え方は同じプロセス）<br>\n",
    "      -> <br>\n",
    "    - 教師あり学習の回帰と分類で使われるアルゴリズムをそれぞれ1つ以上答えよ<br>\n",
    "      -> 回帰： <br>\n",
    "      -> 分類： <br>\n",
    "    - 過学習とは何か？過学習を防ぐ方法は何か？<br>\n",
    "      -> <br>\n",
    "    - 回帰と分類で使われる評価指標をそれぞれ1つ以上答えよ<br>\n",
    "      -> 回帰： <br>\n",
    "      -> 分類： <br>"
   ]
  },
  {
   "cell_type": "markdown",
   "metadata": {},
   "source": [
    "- 次のモデル（プログラム）を説明する。（どれか一つ選択）\n",
    "    - アンケート結果から統計学アプローチにて改善点を考察する\n",
    "    - ボストン物件価格データから回帰モデルを構築したので説明する\n",
    "    - アヤメデータから分類モデルを構築したので説明する\n",
    "    - MNISTデータから分類モデルを構築したので説明する\n",
    "    - オープンデータを使って回帰モデルを構築したので説明する"
   ]
  },
  {
   "cell_type": "markdown",
   "metadata": {},
   "source": [
    "## 3. 感想（今後の展望など）"
   ]
  },
  {
   "cell_type": "markdown",
   "metadata": {},
   "source": [
    "- 相手のレベルに沿ってや目的に応じて、カリキュラムを設定し、話をすることの難しさを知ルことができた。\n",
    "- 相手の質問の対応力の難しさや自分の知識の不十分さを思い知った。\n",
    "- 相手にアウトプットすることで、言葉や理論、Pythonの使い方を説明できる能力が高まったと思える。<br>\n",
    "  上記スキル評価結果を見ても、サイエンス力やエンジニア力が上がっていることが確かめられた。\n",
    "- 僕に機会を与えてくれた深谷さんやマネージャーの方、この活動に付いて来てくれた田中さん、楠元さん、影山さん、ITサポートしてくれた古河さんに感謝します。\n",
    "- 次のステップとしては、故障診断データ（XML）からデータの可視化をしたり（ある値の傾向や特徴を確認する）、機械学習モデルを構築してエラーコードの異常検知やドメイン（地域や車種ごとなど）ごとでデータをクラスタリングして見るのにチャレンジして見るのも面白いかと思います。"
   ]
  },
  {
   "cell_type": "markdown",
   "metadata": {},
   "source": [
    "## END"
   ]
  },
  {
   "cell_type": "code",
   "execution_count": null,
   "metadata": {},
   "outputs": [],
   "source": []
  }
 ],
 "metadata": {
  "kernelspec": {
   "display_name": "Python 3",
   "language": "python",
   "name": "python3"
  },
  "language_info": {
   "codemirror_mode": {
    "name": "ipython",
    "version": 3
   },
   "file_extension": ".py",
   "mimetype": "text/x-python",
   "name": "python",
   "nbconvert_exporter": "python",
   "pygments_lexer": "ipython3",
   "version": "3.6.8"
  }
 },
 "nbformat": 4,
 "nbformat_minor": 2
}
